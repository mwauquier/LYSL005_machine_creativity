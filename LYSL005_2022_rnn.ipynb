{
  "nbformat": 4,
  "nbformat_minor": 0,
  "metadata": {
    "colab": {
      "provenance": [],
      "authorship_tag": "ABX9TyNC5oaXrkFw37uEVze/sgEJ",
      "include_colab_link": true
    },
    "kernelspec": {
      "name": "python3",
      "display_name": "Python 3"
    },
    "language_info": {
      "name": "python"
    }
  },
  "cells": [
    {
      "cell_type": "markdown",
      "metadata": {
        "id": "view-in-github",
        "colab_type": "text"
      },
      "source": [
        "<a href=\"https://colab.research.google.com/github/mwauquier/LYSL005_machine_creativity/blob/main/LYSL005_2022_rnn.ipynb\" target=\"_parent\"><img src=\"https://colab.research.google.com/assets/colab-badge.svg\" alt=\"Open In Colab\"/></a>"
      ]
    },
    {
      "cell_type": "markdown",
      "source": [
        "# Générer du texte avec des RNN"
      ],
      "metadata": {
        "id": "EZSjoT6zbsFJ"
      }
    },
    {
      "cell_type": "markdown",
      "source": [
        "Nous utiliserons pour cela un module adapté par Donald Dong qui permet d'entraîner rapidement un RNN pour la génération de texte, appelé `rnn-text-gen`. La documentation autour du module en question est [disponible sur Github](https://github.com/donaldong/rnn-text-gen)."
      ],
      "metadata": {
        "id": "HEIZgF4tzLON"
      }
    },
    {
      "cell_type": "markdown",
      "source": [
        "Contrairement au module `markovify`, nous n'allons pas installer le module et l'importer comme n'importe quel module Python. Nous allons ici devoir récupérer le répertoire git et l'importer ici.\n",
        "\n",
        "On commence pour cela par cloner le répertoire Git."
      ],
      "metadata": {
        "id": "FmPRRWmtcqvv"
      }
    },
    {
      "cell_type": "code",
      "source": [
        "!git clone https://github.com/donaldong/rnn-text-gen.git"
      ],
      "metadata": {
        "id": "XE8ASkti0HhU",
        "colab": {
          "base_uri": "https://localhost:8080/"
        },
        "outputId": "be616e10-05a7-4211-a6ef-caae0a339da0"
      },
      "execution_count": null,
      "outputs": [
        {
          "output_type": "stream",
          "name": "stdout",
          "text": [
            "fatal: destination path 'rnn-text-gen' already exists and is not an empty directory.\n"
          ]
        }
      ]
    },
    {
      "cell_type": "markdown",
      "source": [
        "Il nous faut alors dire au système (ici, notre système virtuel) où se trouve le module que l'on a récupé. On le fait à l'aide du code dans la cellule suivante."
      ],
      "metadata": {
        "id": "8mMnEH10dCXB"
      }
    },
    {
      "cell_type": "code",
      "source": [
        "import sys\n",
        "sys.path.insert(0,'/content/rnn-text-gen')"
      ],
      "metadata": {
        "id": "lOzf7goh0VWE"
      },
      "execution_count": null,
      "outputs": []
    },
    {
      "cell_type": "markdown",
      "source": [
        "Le module repose sur une version de TensorFlow antérieure à celle actuellement supportée par Google Colaboratory. Pour pouvoir faire tourner le module en l'état sans devoir en adapter le code pour le rendre compatible avec la version la plus récente de TensorFlow, on installe sur notre instance virtuelle la bonne version de TensorFlow."
      ],
      "metadata": {
        "id": "DeqiimHIdLrn"
      }
    },
    {
      "cell_type": "code",
      "source": [
        "!pip uninstall tensorflow\n",
        "!pip install tensorflow-gpu==1.15\n",
        "!apt install --allow-change-held-packages libcudnn7=7.4.1.5-1+cuda10.0"
      ],
      "metadata": {
        "id": "QzfNWRfk1BFf",
        "colab": {
          "base_uri": "https://localhost:8080/"
        },
        "outputId": "f26c4040-2f87-4995-f29c-697a0c0c8dba"
      },
      "execution_count": null,
      "outputs": [
        {
          "output_type": "stream",
          "name": "stdout",
          "text": [
            "\u001b[33mWARNING: Skipping tensorflow as it is not installed.\u001b[0m\n",
            "Looking in indexes: https://pypi.org/simple, https://us-python.pkg.dev/colab-wheels/public/simple/\n",
            "Requirement already satisfied: tensorflow-gpu==1.15 in /usr/local/lib/python3.7/dist-packages (1.15.0)\n",
            "Requirement already satisfied: opt-einsum>=2.3.2 in /usr/local/lib/python3.7/dist-packages (from tensorflow-gpu==1.15) (3.3.0)\n",
            "Requirement already satisfied: gast==0.2.2 in /usr/local/lib/python3.7/dist-packages (from tensorflow-gpu==1.15) (0.2.2)\n",
            "Requirement already satisfied: google-pasta>=0.1.6 in /usr/local/lib/python3.7/dist-packages (from tensorflow-gpu==1.15) (0.2.0)\n",
            "Requirement already satisfied: wheel>=0.26 in /usr/local/lib/python3.7/dist-packages (from tensorflow-gpu==1.15) (0.38.4)\n",
            "Requirement already satisfied: keras-preprocessing>=1.0.5 in /usr/local/lib/python3.7/dist-packages (from tensorflow-gpu==1.15) (1.1.2)\n",
            "Requirement already satisfied: numpy<2.0,>=1.16.0 in /usr/local/lib/python3.7/dist-packages (from tensorflow-gpu==1.15) (1.21.6)\n",
            "Requirement already satisfied: keras-applications>=1.0.8 in /usr/local/lib/python3.7/dist-packages (from tensorflow-gpu==1.15) (1.0.8)\n",
            "Requirement already satisfied: tensorboard<1.16.0,>=1.15.0 in /usr/local/lib/python3.7/dist-packages (from tensorflow-gpu==1.15) (1.15.0)\n",
            "Requirement already satisfied: absl-py>=0.7.0 in /usr/local/lib/python3.7/dist-packages (from tensorflow-gpu==1.15) (1.3.0)\n",
            "Requirement already satisfied: grpcio>=1.8.6 in /usr/local/lib/python3.7/dist-packages (from tensorflow-gpu==1.15) (1.50.0)\n",
            "Requirement already satisfied: protobuf>=3.6.1 in /usr/local/lib/python3.7/dist-packages (from tensorflow-gpu==1.15) (3.19.6)\n",
            "Requirement already satisfied: tensorflow-estimator==1.15.1 in /usr/local/lib/python3.7/dist-packages (from tensorflow-gpu==1.15) (1.15.1)\n",
            "Requirement already satisfied: termcolor>=1.1.0 in /usr/local/lib/python3.7/dist-packages (from tensorflow-gpu==1.15) (2.1.0)\n",
            "Requirement already satisfied: six>=1.10.0 in /usr/local/lib/python3.7/dist-packages (from tensorflow-gpu==1.15) (1.15.0)\n",
            "Requirement already satisfied: astor>=0.6.0 in /usr/local/lib/python3.7/dist-packages (from tensorflow-gpu==1.15) (0.8.1)\n",
            "Requirement already satisfied: wrapt>=1.11.1 in /usr/local/lib/python3.7/dist-packages (from tensorflow-gpu==1.15) (1.14.1)\n",
            "Requirement already satisfied: h5py in /usr/local/lib/python3.7/dist-packages (from keras-applications>=1.0.8->tensorflow-gpu==1.15) (3.1.0)\n",
            "Requirement already satisfied: werkzeug>=0.11.15 in /usr/local/lib/python3.7/dist-packages (from tensorboard<1.16.0,>=1.15.0->tensorflow-gpu==1.15) (1.0.1)\n",
            "Requirement already satisfied: setuptools>=41.0.0 in /usr/local/lib/python3.7/dist-packages (from tensorboard<1.16.0,>=1.15.0->tensorflow-gpu==1.15) (57.4.0)\n",
            "Requirement already satisfied: markdown>=2.6.8 in /usr/local/lib/python3.7/dist-packages (from tensorboard<1.16.0,>=1.15.0->tensorflow-gpu==1.15) (3.4.1)\n",
            "Requirement already satisfied: importlib-metadata>=4.4 in /usr/local/lib/python3.7/dist-packages (from markdown>=2.6.8->tensorboard<1.16.0,>=1.15.0->tensorflow-gpu==1.15) (4.13.0)\n",
            "Requirement already satisfied: typing-extensions>=3.6.4 in /usr/local/lib/python3.7/dist-packages (from importlib-metadata>=4.4->markdown>=2.6.8->tensorboard<1.16.0,>=1.15.0->tensorflow-gpu==1.15) (4.1.1)\n",
            "Requirement already satisfied: zipp>=0.5 in /usr/local/lib/python3.7/dist-packages (from importlib-metadata>=4.4->markdown>=2.6.8->tensorboard<1.16.0,>=1.15.0->tensorflow-gpu==1.15) (3.10.0)\n",
            "Requirement already satisfied: cached-property in /usr/local/lib/python3.7/dist-packages (from h5py->keras-applications>=1.0.8->tensorflow-gpu==1.15) (1.5.2)\n",
            "Reading package lists... Done\n",
            "Building dependency tree       \n",
            "Reading state information... Done\n",
            "libcudnn7 is already the newest version (7.4.1.5-1+cuda10.0).\n",
            "The following package was automatically installed and is no longer required:\n",
            "  libnvidia-common-460\n",
            "Use 'apt autoremove' to remove it.\n",
            "0 upgraded, 0 newly installed, 0 to remove and 5 not upgraded.\n"
          ]
        }
      ]
    },
    {
      "cell_type": "markdown",
      "source": [
        "Parce qu'il s'agit d'une version antérieure, certaines fonctions (ou du moins leur nom) sont considérées comme obsolètes. Vous aurez donc dans la suite du programme des messages de type 'Warning'. Cela n'empêche normalement pas le bon fonctionnement desdites fonctions.\n",
        "\n",
        "Il nous faut maintenant importer les classes et libraires pertinentes"
      ],
      "metadata": {
        "id": "d8QTsvQkdm-E"
      }
    },
    {
      "cell_type": "code",
      "execution_count": null,
      "metadata": {
        "id": "iqFkQ0wYzFrS",
        "colab": {
          "base_uri": "https://localhost:8080/"
        },
        "outputId": "e09f38fa-3c0f-45ec-c10c-9b97780fcd8a"
      },
      "outputs": [
        {
          "output_type": "stream",
          "name": "stderr",
          "text": [
            "WARNING:tensorflow:From /content/rnn-text-gen/src/text_generator.py:22: The name tf.train.AdamOptimizer is deprecated. Please use tf.compat.v1.train.AdamOptimizer instead.\n",
            "\n"
          ]
        }
      ],
      "source": [
        "# On importe les classes issues du module custom que nous avons cloné\n",
        "from src.text_generator import RNNTextGenerator\n",
        "from src.dataset import Dataset\n",
        "\n",
        "# On importe les librairies classiques nécessaires pour la suite\n",
        "import tensorflow as tf\n",
        "import matplotlib.pyplot as plt\n",
        "import numpy as np\n",
        "import pandas as pd"
      ]
    },
    {
      "cell_type": "markdown",
      "source": [
        "On peut alors commencer à entraîner notre RNN.\n",
        "\n",
        "On commence par charger notre corpus d'entraînement. Ici, le module vient avec quelques corpus, dont on peut regarder rapidement à quoi ils ressemblent."
      ],
      "metadata": {
        "id": "0g0DY-49eFUB"
      }
    },
    {
      "cell_type": "code",
      "source": [
        "f = open('/content/rnn-text-gen/data/alice.txt')\n",
        "text = f.read()\n",
        "print(text[:400])"
      ],
      "metadata": {
        "id": "2ZGTyqwjeRwe",
        "colab": {
          "base_uri": "https://localhost:8080/"
        },
        "outputId": "bcfb64fd-8597-449d-f539-991ddf065360"
      },
      "execution_count": null,
      "outputs": [
        {
          "output_type": "stream",
          "name": "stdout",
          "text": [
            "﻿ALICE'S ADVENTURES IN WONDERLAND\n",
            "\n",
            "Lewis Carroll\n",
            "\n",
            "CHAPTER I. Down the Rabbit-Hole\n",
            "\n",
            "Alice was beginning to get very tired of sitting by her sister on the\n",
            "bank, and of having nothing to do: once or twice she had peeped into the\n",
            "book her sister was reading, but it had no pictures or conversations in\n",
            "it, 'and what is the use of a book,' thought Alice 'without pictures or\n",
            "conversations?'\n",
            "\n",
            "So she was co\n"
          ]
        }
      ]
    },
    {
      "cell_type": "markdown",
      "source": [
        "Il nous faut maintenant définir les paramètres d'entraînement. Parmi ces paramètres, on trouve :\n",
        "- La taille des batchs (batch_size)\n",
        "- La longueur des séquences (seq_length)\n",
        "- Le nombre d'époch (epoch)\n",
        "- Le taux d'apprentissage (learning_rate)"
      ],
      "metadata": {
        "id": "gl5gvPrikF1H"
      }
    },
    {
      "cell_type": "code",
      "source": [
        "seq_length = 25\n",
        "learning_rate = 0.01\n",
        "epoch = 1\n",
        "batch_size = 25"
      ],
      "metadata": {
        "id": "pX_RwrTDePBk"
      },
      "execution_count": null,
      "outputs": []
    },
    {
      "cell_type": "markdown",
      "source": [
        "On peut alors traiter le corpus, c'est-à-dire créer les vecteurs qui serviront d'input au RNN. Le présent module propose par la fonction Dataset de transformer le corpus en un ensemble de batchs comprenant *n* séquences de longueur *j* de vecteurs one-hot (où *n* correspond à la valeur définie par batch_size, et *j* à la longueur des séquences définie par seq_length)\n",
        "\n",
        "Notons qu'ici, la fonction crée des vecteurs pour les caractères, mais on peut de façon générale choisir de faire des vecteurs pour les mots eux-mêmes et non les caractères.\n",
        "\n",
        "De même, les RNNs peuvent prendre en entrée des vecteurs de type *word embeddings*, mais nous nous limiterons ici aux vecteurs one-hot.\n"
      ],
      "metadata": {
        "id": "OAWwKYzQkOzg"
      }
    },
    {
      "cell_type": "code",
      "source": [
        "alice_dataset = Dataset(['/content/rnn-text-gen/data/alice.txt'], seq_length)"
      ],
      "metadata": {
        "id": "ZO-ZBDJskN6z"
      },
      "execution_count": null,
      "outputs": []
    },
    {
      "cell_type": "markdown",
      "source": [
        "On peut alors entraîner le modèle à l'aide de la fonction `RNNTextGenerator()`. Un argument important de cette fonction est le type d'unités que l'on utilise (ici BasicRNNCell). On pourra plus tard utiliser des unités de type LSTM ou GRU pour entraîner les réseaux de neurones correspondants."
      ],
      "metadata": {
        "id": "koy7KvOrlEo_"
      }
    },
    {
      "cell_type": "code",
      "source": [
        "rnn_model = RNNTextGenerator(\n",
        "    seq_length,\n",
        "    alice_dataset.vocab_size,\n",
        "    rnn_cell=tf.nn.rnn_cell.BasicRNNCell,\n",
        "    learning_rate=learning_rate,\n",
        "    epoch=epoch,\n",
        "    batch_size=batch_size,\n",
        ")"
      ],
      "metadata": {
        "id": "cckpjz4dzarw"
      },
      "execution_count": null,
      "outputs": []
    },
    {
      "cell_type": "markdown",
      "source": [
        "Une façon d'évaluer nos paramètres et le degré de convergence de notre RNN consiste à voir comment évoluent la précision (Accuracy) et la fonction objectif (loss function).\n",
        "\n",
        "On commence par faire converger le modèle sur nos données, et on sauvegarde les scores dans une variable."
      ],
      "metadata": {
        "id": "guAfGKL9t8PY"
      }
    },
    {
      "cell_type": "code",
      "source": [
        "rnn_model_scores = rnn_model.fit(\n",
        "    alice_dataset,\n",
        "    save_scores=True\n",
        ")"
      ],
      "metadata": {
        "id": "hUtLVZ1Jt8t_"
      },
      "execution_count": null,
      "outputs": []
    },
    {
      "cell_type": "markdown",
      "source": [
        "On peut alors produire une visualisation graphique de l'évolution de ces scores."
      ],
      "metadata": {
        "id": "MgKj-GaHvENk"
      }
    },
    {
      "cell_type": "code",
      "source": [
        "fig, axes = plt.subplots(figsize=(15, 6), ncols=2)\n",
        "rnn_model_scores['accuracy'].plot(\n",
        "    ax=axes[0], title='Accuracy (Train)'\n",
        ")\n",
        "rnn_model_scores['loss'].plot(\n",
        "    ax=axes[1], title='Loss (Train)'\n",
        ")\n",
        "for ax in axes:\n",
        "    ax.set(xlabel='Steps')"
      ],
      "metadata": {
        "colab": {
          "base_uri": "https://localhost:8080/",
          "height": 404
        },
        "id": "BSqOKcdKvHEc",
        "outputId": "4e125c1e-4405-4801-d60a-429b6e2391aa"
      },
      "execution_count": null,
      "outputs": [
        {
          "output_type": "display_data",
          "data": {
            "text/plain": [
              "<Figure size 1080x432 with 2 Axes>"
            ],
            "image/png": "[encoded data removed]"
          },
          "metadata": {
            "needs_background": "light"
          }
        }
      ]
    },
    {
      "cell_type": "markdown",
      "source": [
        "La courbe de la fonction objectif doit normalement une courbe descendante d'abord rapide puis qui ralentit. Si la courbe ne se stabilise cependant pas (qu'il y a beaucoup de pics par exemple), on considère que le RNN n'a pas convergé. Un modèle ne converge pas quand la fonction objectif ne se stabilise pas. Une raison à cette non-convergence peut s'expliquer par le nombre limité d'epochs (1) que nous avons fixé. On peut donc choisir de réentraîner notre RNN avec un nombre d'epochs plus élevé, par exemple.\n",
        "\n",
        "Sachez que l'on peut aussi affiner notre modèle sans le réentraîner de 0 en le va le 'fit' sur nos données (on peut considérer cela comme un epoch). On peut ainsi demander au modèle de s'affiner un certain nombre de fois, ou durant une certaine période, comme on le fait ci-dessous.\n",
        "\n",
        "De façon assez intéressante, on peut suivre l'évolution en direct de ces scores et de l'état de la prédiction en temps réel à mesure que le RNN s'entraîne."
      ],
      "metadata": {
        "id": "aXOg9EozveVB"
      }
    },
    {
      "cell_type": "code",
      "source": [
        "# On importe la fonction native du module permettant de fixer une durée maximale à l'entraînement\n",
        "from src.time_limit import time_limit\n",
        "\n",
        "# On définit la durée de l'entraînement\n",
        "for _ in time_limit(seconds=30): \n",
        "  # On affine le modèle\n",
        "  rnn_model.fit(alice_dataset)\n",
        "  acc, loss = rnn_model.score(alice_dataset)\n",
        "  # On imprime à chaque epoch la précision et la valeur de la loss function\n",
        "  print('test acc: {}, test loss: {}'.format(\n",
        "        acc, loss\n",
        "    ))\n",
        "  # On demande à chaque epoch d'imprimer une séquence de 100 caractères prédits à partir de la séquence initiale 'Yes, but '\n",
        "  start_seq = 'Yes, but '\n",
        "  print(start_seq + alice_model.generate(\n",
        "        alice_dataset,\n",
        "        start_seq,\n",
        "        100\n",
        "    ))\n",
        "  print('-----------------------')"
      ],
      "metadata": {
        "id": "aZXGLh_k36uh"
      },
      "execution_count": null,
      "outputs": []
    },
    {
      "cell_type": "markdown",
      "source": [
        "Quelque soit la performance de votre RNN, il est en tout cas déjà prêt pour la génération de phrase. Générer une séquence se fait à l'aide de la fonction `generate()`. La fonction prend en argument le dataset (c'est-à-dire le dictionnaire contenant les équivalences entre les vecteurs one-hot et les symboles correspondants), la séquence à partir de laquelle prédire, et le nombre de caractères à prédire."
      ],
      "metadata": {
        "id": "sgzov5cIyd4Z"
      }
    },
    {
      "cell_type": "code",
      "source": [
        "# Pour des raisons de lisibilité, on définit la séquence d'amorce dans une variable à part\n",
        "start_seq = 'Of course '\n",
        "\n",
        "# On imprime ici directement l'amorce et le texte généré (mais on pourrait enregistrer le texte généré dans une variable par exemple)\n",
        "print(start_seq + alice_model.generate(\n",
        "        alice_dataset,\n",
        "        start_seq,\n",
        "        500\n",
        "    ))"
      ],
      "metadata": {
        "id": "svVaARimBQH_"
      },
      "execution_count": null,
      "outputs": []
    },
    {
      "cell_type": "markdown",
      "source": [
        "Comme dit plus haut, vous pouvez entraîner des RNN plus spécifiques, à savoir des LSTM et des réseaux de type GRU. Il suffit pour cela notamment de remplacer dans la fonction d'entraînement BasicRNNCell par LSTMCell ou CRUCell (et modifier les valeurs des autres arguments si besoin)"
      ],
      "metadata": {
        "id": "Qygj-jafzUax"
      }
    },
    {
      "cell_type": "markdown",
      "source": [
        "## Exercice\n",
        "\n",
        "- Quels sont les paramètres qui vous permettent d'améliorer les résultats pour un petit corpus ?\n",
        "- Quel est l'impact de la taille du corpus ?\n",
        "- Quelle est la performance du RNN sur la prédiction du wikiCréole ?\n",
        "- Quel est le type de réseau de neurones qui marche le mieux (sur vos données) ?"
      ],
      "metadata": {
        "id": "j22GJOfj1ltf"
      }
    },
    {
      "cell_type": "markdown",
      "source": [
        "## Compléments\n",
        "\n",
        "Notez par ailleurs que le module présenté ici intègre des fonctions de sélection de modèles. Ces fonctions vous permettent d'entraîner plusieurs réseaux en faisant varier automatiquement les paramètres (types de cellules, fonction d'optimisation, nombre d'epoch, etc), et d'identifier sur la base de ces différents modèles la configuration optimale.\n",
        "\n",
        "Attention, en fonction de la variabilité que vous autorisez pour les différents paramètres, l'entraînement de ces différents modèles peut être très long.*italicized text*"
      ],
      "metadata": {
        "id": "hni_C_MZ0NZ7"
      }
    },
    {
      "cell_type": "code",
      "source": [
        "# On importe la fonction nécessaire\n",
        "from src.model_selector import ModelSelector\n",
        "\n",
        "# On définit les paramètres à faire varier\n",
        "params = {\n",
        "    'rnn_cell': [\n",
        "        tf.nn.rnn_cell.BasicRNNCell,\n",
        "        tf.nn.rnn_cell.LSTMCell,\n",
        "        tf.nn.rnn_cell.GRUCell,\n",
        "    ],\n",
        "    'n_neurons': np.arange(1, 500),\n",
        "    'activation': [\n",
        "        tf.nn.leaky_relu,\n",
        "        tf.nn.elu,\n",
        "        tf.tanh,\n",
        "    ],\n",
        "    'optimizer': [\n",
        "        tf.train.AdamOptimizer,\n",
        "        tf.train.GradientDescentOptimizer,\n",
        "    ],\n",
        "    'learning_rate': np.linspace(0, 1, 10000, endpoint=False),\n",
        "    'epoch': np.arange(1, 200),\n",
        "    'batch_size': np.arange(25, 100),\n",
        "}\n",
        "\n",
        "# On entraîne l'ensemble des modèles au regard des paramètres fixés\n",
        "config_models = ModelSelector(alice_dataset, params)"
      ],
      "metadata": {
        "id": "_8Zke8T07_-1"
      },
      "execution_count": null,
      "outputs": []
    },
    {
      "cell_type": "markdown",
      "source": [
        "On peut alors sélectionner le ou les modèles optimaux à l'aide de la fonction `search()`.\n",
        "\n",
        "Attention, là aussi la sélection peut être longue (vous allez potentiellement entraîner un très grand nombre de modèles). Vous pouvez donc là aussi fixer un délai maximal pour la réalisation de la fonction."
      ],
      "metadata": {
        "id": "VgYKXphQ05K5"
      }
    },
    {
      "cell_type": "code",
      "source": [
        "for _ in time_limit(hours=24):\n",
        "    config_models.search()\n",
        "\n",
        "    # Cette ligne vous permet ensuite de sauvegarder dans un fichier csv les informations des 10 premiers résultats\n",
        "    config_models.as_df().head(10).to_csv('alice_models.csv')"
      ],
      "metadata": {
        "id": "9cXy7lXV07pm"
      },
      "execution_count": null,
      "outputs": []
    }
  ]
}